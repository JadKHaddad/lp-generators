{
 "cells": [
  {
   "cell_type": "code",
   "execution_count": null,
   "metadata": {},
   "outputs": [],
   "source": [
    "%matplotlib inline\n",
    "import pandas as pd\n",
    "import seaborn as sns\n",
    "import matplotlib.pyplot as plt"
   ]
  },
  {
   "cell_type": "code",
   "execution_count": null,
   "metadata": {},
   "outputs": [],
   "source": [
    "import json"
   ]
  },
  {
   "cell_type": "code",
   "execution_count": null,
   "metadata": {},
   "outputs": [],
   "source": [
    "with open('data/parameterised_random.json') as infile:\n",
    "    data = json.load(infile)"
   ]
  },
  {
   "cell_type": "code",
   "execution_count": null,
   "metadata": {},
   "outputs": [],
   "source": [
    "data[0]"
   ]
  },
  {
   "cell_type": "code",
   "execution_count": null,
   "metadata": {},
   "outputs": [],
   "source": [
    "df = pd.DataFrame([\n",
    "    {\n",
    "        'param_rho': instance['params']['lhs_params']['density'],\n",
    "        'param_pv': instance['params']['lhs_params']['pv'],\n",
    "        'param_pc': instance['params']['lhs_params']['pc'],\n",
    "        'basis_split': instance['params']['beta_params']['basis_split'],\n",
    "        'beta_param': pd.np.log(instance['params']['alpha_params']['beta_param']),\n",
    "        'frac_violations': instance['params']['alpha_params']['frac_violations'],\n",
    "        'nonzeros': instance['nonzeros'],\n",
    "        'var_degree_max': instance['var_degree_max'],\n",
    "        'cons_degree_max': instance['cons_degree_max'],\n",
    "        'var_degree_min': instance['var_degree_min'],\n",
    "        'cons_degree_min': instance['cons_degree_min'],\n",
    "        'fractional_primal': instance['fractional_primal'],\n",
    "        'binding_constraints': instance['binding_constraints'],\n",
    "        'total_fractionality': instance['total_fractionality'],\n",
    "    }\n",
    "    for instance in data\n",
    "])\n",
    "sns.pairplot(df,\n",
    "             x_vars=['param_rho', 'param_pv', 'param_pc', 'basis_split', 'beta_param', 'frac_violations'],\n",
    "             y_vars=[\n",
    "                'nonzeros', 'var_degree_min', 'var_degree_max', 'cons_degree_min', 'cons_degree_max',\n",
    "                 'fractional_primal', 'binding_constraints', 'total_fractionality'])"
   ]
  },
  {
   "cell_type": "markdown",
   "metadata": {},
   "source": [
    "# Controlling min/max/mean\n",
    "\n",
    "The aim here is to show that rho controls number of nonzeros, pv/pc control variable and constraint skew *independently of density*.\n",
    "We also want parameters to be independent of size, hence the use of fractional values."
   ]
  },
  {
   "cell_type": "code",
   "execution_count": null,
   "metadata": {},
   "outputs": [],
   "source": [
    "plt.scatter(x=df.param_rho, y=df.nonzeros)\n",
    "plt.xlabel('Density Parameter')\n",
    "plt.ylabel('Number of Nonzeros')"
   ]
  },
  {
   "cell_type": "code",
   "execution_count": null,
   "metadata": {},
   "outputs": [],
   "source": [
    "plt.scatter(x=df.param_rho, y=df.param_pc, c=df.nonzeros)"
   ]
  },
  {
   "cell_type": "code",
   "execution_count": null,
   "metadata": {},
   "outputs": [],
   "source": [
    "plt.scatter(x=df.param_rho, y=df.param_pc, c=df.nonzeros)\n",
    "cbar = plt.colorbar()\n",
    "cbar.set_label('Number of Nonzeros')\n",
    "plt.xlabel('Density Parameter')\n",
    "plt.ylabel('PC Parameter')"
   ]
  },
  {
   "cell_type": "code",
   "execution_count": null,
   "metadata": {},
   "outputs": [],
   "source": [
    "plt.scatter(x=df.param_rho, y=df.param_pc, c=df.cons_degree_max - df.cons_degree_min)\n",
    "cbar = plt.colorbar()\n",
    "cbar.set_label('Max - Min Constraint Degree')\n",
    "plt.xlabel('Density Parameter')\n",
    "plt.ylabel('PC Parameter')"
   ]
  },
  {
   "cell_type": "code",
   "execution_count": null,
   "metadata": {},
   "outputs": [],
   "source": [
    "plt.scatter(x=df.param_rho, y=df.param_pc, c=df.cons_degree_min)\n",
    "cbar = plt.colorbar()\n",
    "cbar.set_label('Min Constraint Degree')\n",
    "plt.xlabel('Density Parameter')\n",
    "plt.ylabel('PC Parameter')"
   ]
  },
  {
   "cell_type": "code",
   "execution_count": null,
   "metadata": {},
   "outputs": [],
   "source": [
    "plt.scatter(x=df.param_rho, y=df.param_pv, c=df.var_degree_max)"
   ]
  },
  {
   "cell_type": "code",
   "execution_count": null,
   "metadata": {},
   "outputs": [],
   "source": [
    "plt.scatter(x=df.param_rho, y=df.param_pv, c=df.var_degree_min)"
   ]
  },
  {
   "cell_type": "code",
   "execution_count": null,
   "metadata": {},
   "outputs": [],
   "source": [
    "df.head()"
   ]
  },
  {
   "cell_type": "code",
   "execution_count": null,
   "metadata": {},
   "outputs": [],
   "source": [
    "plt.scatter(x=df.basis_split, y=df.frac_violations, c=df.fractional_primal)"
   ]
  },
  {
   "cell_type": "code",
   "execution_count": null,
   "metadata": {},
   "outputs": [],
   "source": [
    "plt.scatter(x=df.basis_split * df.frac_violations, y=df.beta_param, c=df.total_fractionality)"
   ]
  },
  {
   "cell_type": "code",
   "execution_count": null,
   "metadata": {},
   "outputs": [],
   "source": []
  },
  {
   "cell_type": "code",
   "execution_count": null,
   "metadata": {},
   "outputs": [],
   "source": [
    "import statsmodels.api as sm"
   ]
  },
  {
   "cell_type": "code",
   "execution_count": null,
   "metadata": {},
   "outputs": [],
   "source": [
    "model = sm.OLS(df['nonzeros'], df[['param_rho', 'param_pv', 'param_pc']])\n",
    "results = model.fit()\n",
    "results.summary()"
   ]
  },
  {
   "cell_type": "code",
   "execution_count": null,
   "metadata": {},
   "outputs": [],
   "source": [
    "model = sm.OLS(df['cons_degree_min'], df[['param_rho', 'param_pv', 'param_pc']])\n",
    "results = model.fit()\n",
    "results.summary()"
   ]
  },
  {
   "cell_type": "code",
   "execution_count": null,
   "metadata": {},
   "outputs": [],
   "source": [
    "model = sm.OLS(df['cons_degree_max'], df[['param_rho', 'param_pv', 'param_pc']])\n",
    "results = model.fit()\n",
    "results.summary()"
   ]
  },
  {
   "cell_type": "code",
   "execution_count": null,
   "metadata": {},
   "outputs": [],
   "source": []
  }
 ],
 "metadata": {
  "kernelspec": {
   "display_name": "Python 3",
   "language": "python",
   "name": "python3"
  },
  "language_info": {
   "codemirror_mode": {
    "name": "ipython",
    "version": 3
   },
   "file_extension": ".py",
   "mimetype": "text/x-python",
   "name": "python",
   "nbconvert_exporter": "python",
   "pygments_lexer": "ipython3",
   "version": "3.7.1"
  }
 },
 "nbformat": 4,
 "nbformat_minor": 2
}
